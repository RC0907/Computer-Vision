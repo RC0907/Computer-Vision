{
 "cells": [
  {
   "cell_type": "code",
   "execution_count": 1,
   "metadata": {},
   "outputs": [
    {
     "name": "stderr",
     "output_type": "stream",
     "text": [
      "/Users/rahulchauhan/Library/Python/3.9/lib/python/site-packages/urllib3/__init__.py:34: NotOpenSSLWarning: urllib3 v2 only supports OpenSSL 1.1.1+, currently the 'ssl' module is compiled with 'LibreSSL 2.8.3'. See: https://github.com/urllib3/urllib3/issues/3020\n",
      "  warnings.warn(\n"
     ]
    }
   ],
   "source": [
    "import pandas as pd\n",
    "import matplotlib.pyplot as plt\n",
    "import seaborn as sns\n",
    "import numpy as np\n",
    "import tensorflow\n",
    "from tensorflow import keras\n",
    "from keras import utils\n",
    "from tensorflow import keras\n",
    "from keras import Sequential\n",
    "from keras.layers import Dense,Conv2D,BatchNormalization,MaxPooling2D,Flatten,Dropout\n",
    "from keras.applications.vgg16 import VGG16"
   ]
  },
  {
   "cell_type": "code",
   "execution_count": 2,
   "metadata": {},
   "outputs": [
    {
     "name": "stderr",
     "output_type": "stream",
     "text": [
      "Invalid SOS parameters for sequential JPEG\n"
     ]
    }
   ],
   "source": [
    "import os\n",
    "import cv2\n",
    "\n",
    "def load_images_and_labels(directory, label):\n",
    "    images = []\n",
    "    labels = []\n",
    "    for filename in os.listdir(directory):\n",
    "        if filename.endswith(\".jpg\"):\n",
    "            img_path = os.path.join(directory, filename)\n",
    "            img = cv2.imread(img_path)\n",
    "            img = cv2.resize(img, (128, 128)) # Resize for consistency\n",
    "            images.append(img)\n",
    "            labels.append(label)\n",
    "    return images, labels\n",
    "\n",
    "\n",
    "# Define directories\n",
    "men_dir = '/Users/rahulchauhan/Downloads/dataset-3/MEN'\n",
    "women_dir = '/Users/rahulchauhan/Downloads/dataset-3/WOMAN'\n",
    "\n",
    "# Load images\n",
    "men_images, men_labels = load_images_and_labels(men_dir, 0)\n",
    "women_images, women_labels = load_images_and_labels(women_dir, 1)\n"
   ]
  },
  {
   "cell_type": "code",
   "execution_count": 3,
   "metadata": {},
   "outputs": [],
   "source": [
    "data = np.array(men_images + women_images)\n",
    "labels = np.array(men_labels + women_labels)"
   ]
  },
  {
   "cell_type": "code",
   "execution_count": 5,
   "metadata": {},
   "outputs": [],
   "source": [
    "from tensorflow.keras.utils import to_categorical\n"
   ]
  },
  {
   "cell_type": "code",
   "execution_count": 6,
   "metadata": {},
   "outputs": [],
   "source": [
    "images = data/255.0\n",
    "labels = to_categorical(labels,num_classes = 2)"
   ]
  },
  {
   "cell_type": "code",
   "execution_count": 19,
   "metadata": {},
   "outputs": [],
   "source": [
    "from sklearn.metrics import accuracy_score,confusion_matrix,classification_report"
   ]
  },
  {
   "cell_type": "code",
   "execution_count": 7,
   "metadata": {},
   "outputs": [],
   "source": [
    "from sklearn.model_selection import train_test_split\n",
    "x_train,x_test,y_train,y_test = train_test_split(images,labels,test_size=0.2,random_state=42)"
   ]
  },
  {
   "cell_type": "code",
   "execution_count": 12,
   "metadata": {},
   "outputs": [],
   "source": [
    "model = Sequential()\n",
    "input_size = (128,128,3)\n",
    "model.add(Conv2D(32,kernel_size=3,padding='valid',activation='relu',input_shape = input_size))\n",
    "model.add(Dropout(0.2))\n",
    "model.add(MaxPooling2D(pool_size=(2,2),strides=2,padding='same'))\n",
    "\n",
    "model.add(Conv2D(64,kernel_size=3,padding='same',activation='relu'))\n",
    "model.add(Dropout(0.2))\n",
    "model.add(MaxPooling2D(pool_size=(2,2),strides=2,padding='same'))\n",
    "\n",
    "model.add(Conv2D(128,kernel_size=3,padding='same',activation='relu'))\n",
    "model.add(Dropout(0.2))\n",
    "model.add(MaxPooling2D(pool_size=(2,2),strides=2,padding='same'))\n",
    "\n",
    "model.add(Flatten())\n",
    "\n",
    "model.add(Dense(128,activation='relu'))\n",
    "model.add(Dropout(0.1))\n",
    "model.add(Dense(2,activation='softmax'))\n",
    "\n",
    "model.compile(optimizer = 'adam',loss = 'categorical_crossentropy',metrics = ['accuracy'])"
   ]
  },
  {
   "cell_type": "code",
   "execution_count": 13,
   "metadata": {},
   "outputs": [
    {
     "name": "stdout",
     "output_type": "stream",
     "text": [
      "Epoch 1/10\n",
      "30/30 [==============================] - 6s 202ms/step - loss: 0.9125 - accuracy: 0.5554 - val_loss: 0.6594 - val_accuracy: 0.6109\n",
      "Epoch 2/10\n",
      "30/30 [==============================] - 6s 193ms/step - loss: 0.5761 - accuracy: 0.6998 - val_loss: 0.5946 - val_accuracy: 0.6402\n",
      "Epoch 3/10\n",
      "30/30 [==============================] - 6s 208ms/step - loss: 0.4948 - accuracy: 0.7626 - val_loss: 0.5889 - val_accuracy: 0.7113\n",
      "Epoch 4/10\n",
      "30/30 [==============================] - 6s 200ms/step - loss: 0.4551 - accuracy: 0.7908 - val_loss: 0.5735 - val_accuracy: 0.7197\n",
      "Epoch 5/10\n",
      "30/30 [==============================] - 6s 202ms/step - loss: 0.4016 - accuracy: 0.8274 - val_loss: 0.5543 - val_accuracy: 0.7364\n",
      "Epoch 6/10\n",
      "30/30 [==============================] - 6s 200ms/step - loss: 0.3320 - accuracy: 0.8567 - val_loss: 0.5346 - val_accuracy: 0.7448\n",
      "Epoch 7/10\n",
      "30/30 [==============================] - 6s 207ms/step - loss: 0.2680 - accuracy: 0.8881 - val_loss: 0.5446 - val_accuracy: 0.7490\n",
      "Epoch 8/10\n",
      "30/30 [==============================] - 6s 215ms/step - loss: 0.1788 - accuracy: 0.9331 - val_loss: 0.6084 - val_accuracy: 0.7364\n",
      "Epoch 9/10\n",
      "30/30 [==============================] - 7s 220ms/step - loss: 0.1487 - accuracy: 0.9383 - val_loss: 0.5517 - val_accuracy: 0.7406\n",
      "Epoch 10/10\n",
      "30/30 [==============================] - 8s 263ms/step - loss: 0.1402 - accuracy: 0.9435 - val_loss: 0.5806 - val_accuracy: 0.7573\n"
     ]
    }
   ],
   "source": [
    "history = model.fit(x_train,y_train,epochs=10,validation_data=(x_test,y_test))"
   ]
  },
  {
   "cell_type": "code",
   "execution_count": 17,
   "metadata": {},
   "outputs": [
    {
     "name": "stdout",
     "output_type": "stream",
     "text": [
      "8/8 [==============================] - 0s 39ms/step\n"
     ]
    }
   ],
   "source": [
    "y_pred = model.predict(x_test)\n",
    "y_pred_classes = np.argmax(y_pred, axis=1)\n",
    "y_true = np.argmax(y_test, axis=1)"
   ]
  },
  {
   "cell_type": "code",
   "execution_count": 21,
   "metadata": {},
   "outputs": [
    {
     "data": {
      "text/plain": [
       "'              precision    recall  f1-score   support\\n\\n           0       0.76      0.83      0.79       134\\n           1       0.75      0.67      0.71       105\\n\\n    accuracy                           0.76       239\\n   macro avg       0.76      0.75      0.75       239\\nweighted avg       0.76      0.76      0.76       239\\n'"
      ]
     },
     "execution_count": 21,
     "metadata": {},
     "output_type": "execute_result"
    }
   ],
   "source": [
    "classification_report(y_true,y_pred_classes)"
   ]
  },
  {
   "cell_type": "code",
   "execution_count": 27,
   "metadata": {},
   "outputs": [],
   "source": [
    "import tensorflow as tf\n",
    "from tensorflow.keras.applications import VGG16\n",
    "from tensorflow.keras.models import Model\n",
    "from tensorflow.keras.layers import Dense, Flatten, GlobalAveragePooling2D\n",
    "from tensorflow.keras.utils import to_categorical\n"
   ]
  },
  {
   "cell_type": "code",
   "execution_count": 28,
   "metadata": {},
   "outputs": [],
   "source": [
    "base_model = VGG16(weights='imagenet', include_top=False, input_shape=(128, 128, 3))\n",
    "\n",
    "# Add custom layers on top of the base model\n",
    "x = base_model.output\n",
    "x = GlobalAveragePooling2D()(x)\n",
    "x = Dense(512, activation='relu')(x)  # Add a fully connected layer\n",
    "x = Dense(2, activation='softmax')(x)  # Add a final softmax layer for binary classification\n",
    "\n",
    "# Define the new model\n",
    "model = Model(inputs=base_model.input, outputs=x)\n",
    "\n",
    "# Freeze the layers of the base model\n",
    "for layer in base_model.layers:\n",
    "    layer.trainable = False\n",
    "\n",
    "# Compile the model\n",
    "model.compile(optimizer='adam', loss='categorical_crossentropy', metrics=['accuracy'])"
   ]
  },
  {
   "cell_type": "code",
   "execution_count": 29,
   "metadata": {},
   "outputs": [
    {
     "name": "stdout",
     "output_type": "stream",
     "text": [
      "Model: \"model\"\n",
      "_________________________________________________________________\n",
      " Layer (type)                Output Shape              Param #   \n",
      "=================================================================\n",
      " input_2 (InputLayer)        [(None, 128, 128, 3)]     0         \n",
      "                                                                 \n",
      " block1_conv1 (Conv2D)       (None, 128, 128, 64)      1792      \n",
      "                                                                 \n",
      " block1_conv2 (Conv2D)       (None, 128, 128, 64)      36928     \n",
      "                                                                 \n",
      " block1_pool (MaxPooling2D)  (None, 64, 64, 64)        0         \n",
      "                                                                 \n",
      " block2_conv1 (Conv2D)       (None, 64, 64, 128)       73856     \n",
      "                                                                 \n",
      " block2_conv2 (Conv2D)       (None, 64, 64, 128)       147584    \n",
      "                                                                 \n",
      " block2_pool (MaxPooling2D)  (None, 32, 32, 128)       0         \n",
      "                                                                 \n",
      " block3_conv1 (Conv2D)       (None, 32, 32, 256)       295168    \n",
      "                                                                 \n",
      " block3_conv2 (Conv2D)       (None, 32, 32, 256)       590080    \n",
      "                                                                 \n",
      " block3_conv3 (Conv2D)       (None, 32, 32, 256)       590080    \n",
      "                                                                 \n",
      " block3_pool (MaxPooling2D)  (None, 16, 16, 256)       0         \n",
      "                                                                 \n",
      " block4_conv1 (Conv2D)       (None, 16, 16, 512)       1180160   \n",
      "                                                                 \n",
      " block4_conv2 (Conv2D)       (None, 16, 16, 512)       2359808   \n",
      "                                                                 \n",
      " block4_conv3 (Conv2D)       (None, 16, 16, 512)       2359808   \n",
      "                                                                 \n",
      " block4_pool (MaxPooling2D)  (None, 8, 8, 512)         0         \n",
      "                                                                 \n",
      " block5_conv1 (Conv2D)       (None, 8, 8, 512)         2359808   \n",
      "                                                                 \n",
      " block5_conv2 (Conv2D)       (None, 8, 8, 512)         2359808   \n",
      "                                                                 \n",
      " block5_conv3 (Conv2D)       (None, 8, 8, 512)         2359808   \n",
      "                                                                 \n",
      " block5_pool (MaxPooling2D)  (None, 4, 4, 512)         0         \n",
      "                                                                 \n",
      " global_average_pooling2d (  (None, 512)               0         \n",
      " GlobalAveragePooling2D)                                         \n",
      "                                                                 \n",
      " dense_12 (Dense)            (None, 512)               262656    \n",
      "                                                                 \n",
      " dense_13 (Dense)            (None, 2)                 1026      \n",
      "                                                                 \n",
      "=================================================================\n",
      "Total params: 14978370 (57.14 MB)\n",
      "Trainable params: 263682 (1.01 MB)\n",
      "Non-trainable params: 14714688 (56.13 MB)\n",
      "_________________________________________________________________\n"
     ]
    }
   ],
   "source": [
    "model.summary()"
   ]
  },
  {
   "cell_type": "code",
   "execution_count": 30,
   "metadata": {},
   "outputs": [
    {
     "name": "stdout",
     "output_type": "stream",
     "text": [
      "Epoch 1/10\n",
      "30/30 [==============================] - 35s 1s/step - loss: 0.4906 - accuracy: 0.7374 - val_loss: 0.3034 - val_accuracy: 0.8787\n",
      "Epoch 2/10\n",
      "30/30 [==============================] - 34s 1s/step - loss: 0.2969 - accuracy: 0.8818 - val_loss: 0.2374 - val_accuracy: 0.9079\n",
      "Epoch 3/10\n",
      "30/30 [==============================] - 37s 1s/step - loss: 0.2386 - accuracy: 0.9153 - val_loss: 0.2062 - val_accuracy: 0.9038\n",
      "Epoch 4/10\n",
      "30/30 [==============================] - 41s 1s/step - loss: 0.1969 - accuracy: 0.9310 - val_loss: 0.1851 - val_accuracy: 0.9205\n",
      "Epoch 5/10\n",
      "30/30 [==============================] - 38s 1s/step - loss: 0.1749 - accuracy: 0.9320 - val_loss: 0.1818 - val_accuracy: 0.9205\n",
      "Epoch 6/10\n",
      "30/30 [==============================] - 42s 1s/step - loss: 0.1541 - accuracy: 0.9414 - val_loss: 0.1736 - val_accuracy: 0.9289\n",
      "Epoch 7/10\n",
      "30/30 [==============================] - 49s 2s/step - loss: 0.1390 - accuracy: 0.9550 - val_loss: 0.1724 - val_accuracy: 0.9247\n",
      "Epoch 8/10\n",
      "30/30 [==============================] - 51s 2s/step - loss: 0.1551 - accuracy: 0.9341 - val_loss: 0.1802 - val_accuracy: 0.9205\n",
      "Epoch 9/10\n",
      "30/30 [==============================] - 49s 2s/step - loss: 0.1135 - accuracy: 0.9603 - val_loss: 0.2508 - val_accuracy: 0.8912\n",
      "Epoch 10/10\n",
      "30/30 [==============================] - 57s 2s/step - loss: 0.1034 - accuracy: 0.9644 - val_loss: 0.1775 - val_accuracy: 0.9247\n"
     ]
    }
   ],
   "source": [
    "history = model.fit(x_train,y_train,epochs = 10,validation_data=(x_test,y_test))"
   ]
  },
  {
   "cell_type": "code",
   "execution_count": null,
   "metadata": {},
   "outputs": [],
   "source": []
  }
 ],
 "metadata": {
  "kernelspec": {
   "display_name": "Python 3",
   "language": "python",
   "name": "python3"
  },
  "language_info": {
   "codemirror_mode": {
    "name": "ipython",
    "version": 3
   },
   "file_extension": ".py",
   "mimetype": "text/x-python",
   "name": "python",
   "nbconvert_exporter": "python",
   "pygments_lexer": "ipython3",
   "version": "3.9.6"
  }
 },
 "nbformat": 4,
 "nbformat_minor": 2
}
